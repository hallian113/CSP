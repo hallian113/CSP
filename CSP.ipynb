{
  "nbformat": 4,
  "nbformat_minor": 0,
  "metadata": {
    "colab": {
      "provenance": []
    },
    "kernelspec": {
      "name": "python3",
      "display_name": "Python 3"
    },
    "language_info": {
      "name": "python"
    }
  },
  "cells": [
    {
      "cell_type": "code",
      "execution_count": 2,
      "metadata": {
        "id": "Z8xDRnV_GKMT",
        "colab": {
          "base_uri": "https://localhost:8080/"
        },
        "outputId": "6a71f76d-1649-49b6-c08d-730dde8ac36d"
      },
      "outputs": [
        {
          "output_type": "stream",
          "name": "stdout",
          "text": [
            "Solution found:\n",
            "WA: R\n",
            "NT: G\n",
            "SA: B\n",
            "QLD: R\n",
            "NSW: G\n",
            "VIC: R\n",
            "TAS: R\n"
          ]
        }
      ],
      "source": [
        "variables = ['WA', 'NT', 'SA', 'QLD', 'NSW', 'VIC', 'TAS']\n",
        "\n",
        "domains = {var: ['R', 'G', 'B'] for var in variables}\n",
        "\n",
        "neighbors = {\n",
        "    'WA': ['NT', 'SA'],\n",
        "    'NT': ['WA', 'SA', 'QLD'],\n",
        "    'SA': ['WA', 'NT', 'QLD', 'NSW', 'VIC'],\n",
        "    'QLD': ['NT', 'SA', 'NSW'],\n",
        "    'NSW': ['SA', 'QLD', 'VIC'],\n",
        "    'VIC': ['SA', 'NSW'],\n",
        "    'TAS': []\n",
        "}\n",
        "\n",
        "def is_valid(assignment, var, value):\n",
        "\n",
        "    for neighbor in neighbors[var]:\n",
        "        if neighbor in assignment and assignment[neighbor] == value:\n",
        "            return False\n",
        "    return True\n",
        "\n",
        "def backtrack(assignment):\n",
        "\n",
        "    if len(assignment) == len(variables):\n",
        "        return assignment\n",
        "\n",
        "\n",
        "    unassigned = [v for v in variables if v not in assignment]\n",
        "    var = unassigned[0]\n",
        "\n",
        "    for value in domains[var]:\n",
        "        if is_valid(assignment, var, value):\n",
        "            assignment[var] = value\n",
        "            result = backtrack(assignment)\n",
        "            if result:\n",
        "                return result\n",
        "            del assignment[var]\n",
        "\n",
        "    return None\n",
        "\n",
        "solution = backtrack({})\n",
        "if solution:\n",
        "    print(\"Solution found:\")\n",
        "    for region in variables:\n",
        "        print(f\"{region}: {solution[region]}\")\n",
        "else:\n",
        "    print(\"No valid solution found.\")\n"
      ]
    }
  ]
}